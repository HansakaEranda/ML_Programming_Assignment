{
 "cells": [
  {
   "cell_type": "code",
   "execution_count": 16,
   "id": "5e4ccb75",
   "metadata": {},
   "outputs": [
    {
     "name": "stdout",
     "output_type": "stream",
     "text": [
      "MSE: 0.00265739503739, R2: 0.99679599133630\n",
      "Total cost of cancer treatment for the new patient: 4.41161986792209\n"
     ]
    }
   ],
   "source": [
    "import pandas as pd\n",
    "from sklearn.model_selection import train_test_split\n",
    "from sklearn.tree import DecisionTreeRegressor\n",
    "from sklearn.metrics import mean_squared_error, r2_score\n",
    "from sklearn.preprocessing import OneHotEncoder\n",
    "import pickle\n",
    "\n",
    "# Load the dataset\n",
    "df = pd.read_csv('cleaned_dataset.csv')\n",
    "\n",
    "# Split the dataset into a training set and a testing set\n",
    "X = df[['Cancer Site', 'Year', 'Sex', 'Survival Rate', 'Annual Increase', 'Initial Cost']]\n",
    "y = df['Total Costs']\n",
    "X_train, X_test, y_train, y_test = train_test_split(X, y, test_size=0.2, random_state=42)\n",
    "\n",
    "# Encode categorical features using One-Hot Encoding\n",
    "encoder = OneHotEncoder(handle_unknown='ignore', sparse=False)\n",
    "X_train_encoded = encoder.fit_transform(X_train)\n",
    "\n",
    "# Save the encoding of the training set\n",
    "encoder_filename = 'encoder.pkl'\n",
    "with open(encoder_filename, 'wb') as f:\n",
    "    pickle.dump(encoder, f)\n",
    "\n",
    "# Use the saved encoding to encode the test set\n",
    "X_test_encoded = encoder.transform(X_test)\n",
    "\n",
    "# Remove the unknown categories from the test set\n",
    "X_test = X_test[X_test['Cancer Site'].isin(encoder.categories_[0])]\n",
    "X_test_encoded = encoder.transform(X_test)\n",
    "\n",
    "# Fit a Decision Tree Regression model on the training set\n",
    "model = DecisionTreeRegressor(random_state=42)\n",
    "model.fit(X_train_encoded, y_train)\n",
    "\n",
    "# Evaluate the performance of the model on the testing set\n",
    "y_pred = model.predict(X_test_encoded)\n",
    "mse = mean_squared_error(y_test, y_pred)\n",
    "r2 = r2_score(y_test, y_pred)\n",
    "print(f\"MSE: {mse:.14f}, R2: {r2:.14f}\")\n",
    "\n",
    "# Use the trained model to make predictions for a new patient\n",
    "new_patient = {'Cancer Site': 0, 'Year': 2022, 'Sex': 0, 'Survival Rate': 3, 'Annual Increase': 5, 'Initial Cost': 3.82945393236263}\n",
    "new_patient_encoded = encoder.transform(pd.DataFrame(new_patient, index=[0]))\n",
    "new_patient_cost = model.predict(new_patient_encoded)[0]\n",
    "print(f\"Total cost of cancer treatment for the new patient: {new_patient_cost:.14f}\")"
   ]
  },
  {
   "cell_type": "code",
   "execution_count": null,
   "id": "383c07c2",
   "metadata": {},
   "outputs": [],
   "source": []
  },
  {
   "cell_type": "code",
   "execution_count": null,
   "id": "8f666d3b",
   "metadata": {},
   "outputs": [],
   "source": []
  }
 ],
 "metadata": {
  "kernelspec": {
   "display_name": "Python 3 (ipykernel)",
   "language": "python",
   "name": "python3"
  },
  "language_info": {
   "codemirror_mode": {
    "name": "ipython",
    "version": 3
   },
   "file_extension": ".py",
   "mimetype": "text/x-python",
   "name": "python",
   "nbconvert_exporter": "python",
   "pygments_lexer": "ipython3",
   "version": "3.9.13"
  }
 },
 "nbformat": 4,
 "nbformat_minor": 5
}
